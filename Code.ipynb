{
 "cells": [
  {
   "cell_type": "code",
   "execution_count": 8,
   "id": "7c94e573",
   "metadata": {},
   "outputs": [],
   "source": [
    "import tensorflow as tf\n",
    "import matplotlib.pyplot as plt\n",
    "import pandas as pd\n",
    "import os\n",
    "\n",
    "from PIL import Image\n",
    "from sklearn.neighbors import KNeighborsClassifier\n",
    "from sklearn.linear_model import SGDClassifier\n",
    "from sklearn.model_selection import GridSearchCV\n",
    "from sklearn.pipeline import Pipeline\n",
    "from sklearn.model_selection import RandomizedSearchCV"
   ]
  },
  {
   "cell_type": "code",
   "execution_count": 2,
   "id": "77a6ebec",
   "metadata": {},
   "outputs": [
    {
     "name": "stdout",
     "output_type": "stream",
     "text": [
      "Error getting training image on image .DS_Store\n",
      "Error getting training image on image 0_1299.jpg\n",
      "Error getting training image on image 0_1310.jpg\n",
      "Error getting training image on image 0_1325.jpg\n",
      "Error getting training image on image 0_1423.jpg\n",
      "Error getting training image on image 0_1435.jpg\n",
      "Error getting training image on image 0_1472.jpg\n",
      "Error getting training image on image 0_1488.jpg\n",
      "Error getting training image on image 0_511.jpg\n",
      "Error getting evaluation image on image .DS_Store\n",
      "Error getting testing image on image .DS_Store\n",
      "Error getting testing image on image 0_451.jpg\n",
      "Error getting testing image on image 0_455.jpg\n",
      "Error getting testing image on image 0_478.jpg\n"
     ]
    }
   ],
   "source": [
    "trainingList = pd.DataFrame(columns = ['label'])\n",
    "evaluationList = pd.DataFrame(columns = ['label'])\n",
    "validateList = pd.DataFrame(columns = ['label'])\n",
    "\n",
    "for root, dirs, files in os.walk('Food-5K/training', topdown=False):\n",
    "    for file in files:\n",
    "        try:\n",
    "            image = Image.open(root+'/'+file)\n",
    "            imageResize = tf.image.resize(image, [50,50], method='nearest', preserve_aspect_ratio=False)\n",
    "            imageFlatten = tf.reshape(imageResize, [7500]).numpy()\n",
    "            trainingList = pd.concat([trainingList, pd.DataFrame(imageFlatten).T], ignore_index=True)\n",
    "            trainingList.loc[trainingList.shape[0]-1,'label'] = int(file[0])\n",
    "        except Exception:\n",
    "            print('Error getting training image on image ' + file)\n",
    "            \n",
    "    for root, dirs, files in os.walk('Food-5K/evaluation', topdown=False):\n",
    "        for file in files:\n",
    "            try:\n",
    "                image = Image.open(root+'/'+file)\n",
    "                imageResize = tf.image.resize(image, [50,50], method='nearest', preserve_aspect_ratio=False)\n",
    "                imageFlatten = tf.reshape(imageResize, [7500]).numpy()\n",
    "                evaluationList = pd.concat([evaluationList, pd.DataFrame(imageFlatten).T], ignore_index=True)\n",
    "                evaluationList.loc[evaluationList.shape[0]-1,'label'] = int(file[0])\n",
    "            except Exception:\n",
    "                print('Error getting evaluation image on image ' + file)\n",
    "            \n",
    "    for root, dirs, files in os.walk('Food-5K/validation', topdown=False):\n",
    "        for file in files:\n",
    "            try:\n",
    "                image = Image.open(root+'/'+file)\n",
    "                imageResize = tf.image.resize(image, [50,50], method='nearest', preserve_aspect_ratio=False)\n",
    "                imageFlatten = tf.reshape(imageResize, [7500]).numpy()\n",
    "                validateList = pd.concat([validateList, pd.DataFrame(imageFlatten).T], ignore_index=True)\n",
    "                validateList.loc[validateList.shape[0]-1,'label'] = int(file[0])\n",
    "            except Exception:\n",
    "                print('Error getting testing image on image ' + file)\n",
    "                \n",
    "trainPlusValidate = pd.concat([trainingList, validateList], ignore_index=True)\n",
    "trainPlusValidate = trainPlusValidate.sample(frac=1)"
   ]
  },
  {
   "cell_type": "code",
   "execution_count": 3,
   "id": "11276bdb",
   "metadata": {},
   "outputs": [
    {
     "name": "stdout",
     "output_type": "stream",
     "text": [
      "Stored 'trainingList' (DataFrame)\n",
      "Stored 'evaluationList' (DataFrame)\n",
      "Stored 'validateList' (DataFrame)\n"
     ]
    }
   ],
   "source": [
    "%store trainingList\n",
    "%store evaluationList\n",
    "%store validateList"
   ]
  },
  {
   "cell_type": "code",
   "execution_count": 2,
   "id": "bf905841",
   "metadata": {},
   "outputs": [],
   "source": [
    "%store -r trainingList\n",
    "%store -r evaluationList\n",
    "%store -r validateList"
   ]
  },
  {
   "cell_type": "code",
   "execution_count": 14,
   "id": "b406d5b4",
   "metadata": {},
   "outputs": [
    {
     "data": {
      "text/plain": [
       "(array([1989.,    0.,    0.,    0.,    0.,    0.,    0.,    0.,    0.,\n",
       "        2000.]),\n",
       " array([0.0, 0.1, 0.2, 0.30000000000000004, 0.4, 0.5, 0.6000000000000001,\n",
       "        0.7000000000000001, 0.8, 0.9, 1.0], dtype=object),\n",
       " <BarContainer object of 10 artists>)"
      ]
     },
     "execution_count": 14,
     "metadata": {},
     "output_type": "execute_result"
    },
    {
     "data": {
      "image/png": "[encoded data removed]",
      "text/plain": [
       "<Figure size 432x288 with 1 Axes>"
      ]
     },
     "metadata": {
      "needs_background": "light"
     },
     "output_type": "display_data"
    }
   ],
   "source": [
    "plt.hist(trainPlusValidate['label'])"
   ]
  },
  {
   "cell_type": "code",
   "execution_count": 4,
   "id": "a1b446ff",
   "metadata": {},
   "outputs": [
    {
     "name": "stdout",
     "output_type": "stream",
     "text": [
      "Fitting 3 folds for each of 10 candidates, totalling 30 fits\n"
     ]
    },
    {
     "data": {
      "text/plain": [
       "RandomizedSearchCV(cv=3, estimator=KNeighborsClassifier(), n_jobs=-1,\n",
       "                   param_distributions={'metric': ['manhattan'],\n",
       "                                        'n_neighbors': [30, 40, 50, 70, 80, 100,\n",
       "                                                        140, 300, 600, 800,\n",
       "                                                        1000],\n",
       "                                        'weights': ['uniform']},\n",
       "                   verbose=4)"
      ]
     },
     "execution_count": 4,
     "metadata": {},
     "output_type": "execute_result"
    }
   ],
   "source": [
    "gbm_param_grid = {\n",
    "    'n_neighbors' : [10, 20, 30, 40, 50, 80, 100, 300, 600, 1000],\n",
    "    'weights': ['uniform'],\n",
    "    'metric': ['manhattan']\n",
    "}\n",
    "\n",
    "gs = RandomizedSearchCV(\n",
    "    KNeighborsClassifier(),\n",
    "    gbm_param_grid,\n",
    "    cv = 3,\n",
    "    verbose = 4,\n",
    "    n_jobs = -1\n",
    "    )\n",
    "\n",
    "gs.fit(trainPlusValidate.drop(['label'], axis=1), trainPlusValidate['label'].astype('int'))"
   ]
  },
  {
   "cell_type": "code",
   "execution_count": 5,
   "id": "35752ece",
   "metadata": {},
   "outputs": [
    {
     "name": "stdout",
     "output_type": "stream",
     "text": [
      "Stored 'gs' (RandomizedSearchCV)\n"
     ]
    }
   ],
   "source": [
    "%store gs"
   ]
  },
  {
   "cell_type": "code",
   "execution_count": 3,
   "id": "9bddefae",
   "metadata": {},
   "outputs": [],
   "source": [
    "%store -r gs"
   ]
  },
  {
   "cell_type": "code",
   "execution_count": 16,
   "id": "8c368f29",
   "metadata": {},
   "outputs": [
    {
     "name": "stdout",
     "output_type": "stream",
     "text": [
      "Train score 0.7996991727249937\n",
      "Evaluate score 0.761\n"
     ]
    }
   ],
   "source": [
    "nnTrainScore = gs.score(trainPlusValidate.drop(['label'], axis=1), trainPlusValidate['label'].astype('int'))\n",
    "nnEvaluateScore = gs.score(evaluationList.drop(['label'], axis=1), evaluationList['label'].astype('int'))\n",
    "\n",
    "print('Train score ' + str(nnTrainScore))\n",
    "print('Evaluate score ' + str(nnEvaluateScore))"
   ]
  },
  {
   "cell_type": "code",
   "execution_count": 45,
   "id": "a3224445",
   "metadata": {},
   "outputs": [
    {
     "data": {
      "text/plain": [
       "{'weights': 'uniform', 'n_neighbors': 40, 'metric': 'manhattan'}"
      ]
     },
     "execution_count": 45,
     "metadata": {},
     "output_type": "execute_result"
    }
   ],
   "source": [
    "gs.best_params_"
   ]
  },
  {
   "cell_type": "code",
   "execution_count": 30,
   "id": "af657fa3",
   "metadata": {},
   "outputs": [],
   "source": [
    "params_nn = pd.concat([pd.DataFrame(gs.cv_results_[\"params\"]),pd.DataFrame(gs.cv_results_[\"mean_test_score\"], columns=[\"Accuracy\"])],axis=1)\n",
    "params_nn = params_nn.sort_values(by=['n_neighbors'])\n",
    "params_nn = params_nn.drop(['weights', 'metric'], axis=1)"
   ]
  },
  {
   "cell_type": "code",
   "execution_count": 31,
   "id": "5692c1f0",
   "metadata": {},
   "outputs": [
    {
     "data": {
      "text/html": [
       "<div>\n",
       "<style scoped>\n",
       "    .dataframe tbody tr th:only-of-type {\n",
       "        vertical-align: middle;\n",
       "    }\n",
       "\n",
       "    .dataframe tbody tr th {\n",
       "        vertical-align: top;\n",
       "    }\n",
       "\n",
       "    .dataframe thead th {\n",
       "        text-align: right;\n",
       "    }\n",
       "</style>\n",
       "<table border=\"1\" class=\"dataframe\">\n",
       "  <thead>\n",
       "    <tr style=\"text-align: right;\">\n",
       "      <th></th>\n",
       "      <th>n_neighbors</th>\n",
       "      <th>Accuracy</th>\n",
       "    </tr>\n",
       "  </thead>\n",
       "  <tbody>\n",
       "    <tr>\n",
       "      <th>7</th>\n",
       "      <td>40</td>\n",
       "      <td>0.784908</td>\n",
       "    </tr>\n",
       "    <tr>\n",
       "      <th>0</th>\n",
       "      <td>50</td>\n",
       "      <td>0.777889</td>\n",
       "    </tr>\n",
       "    <tr>\n",
       "      <th>5</th>\n",
       "      <td>70</td>\n",
       "      <td>0.776887</td>\n",
       "    </tr>\n",
       "    <tr>\n",
       "      <th>2</th>\n",
       "      <td>80</td>\n",
       "      <td>0.781901</td>\n",
       "    </tr>\n",
       "    <tr>\n",
       "      <th>8</th>\n",
       "      <td>100</td>\n",
       "      <td>0.772123</td>\n",
       "    </tr>\n",
       "    <tr>\n",
       "      <th>1</th>\n",
       "      <td>140</td>\n",
       "      <td>0.774629</td>\n",
       "    </tr>\n",
       "    <tr>\n",
       "      <th>9</th>\n",
       "      <td>300</td>\n",
       "      <td>0.756830</td>\n",
       "    </tr>\n",
       "    <tr>\n",
       "      <th>3</th>\n",
       "      <td>600</td>\n",
       "      <td>0.745798</td>\n",
       "    </tr>\n",
       "    <tr>\n",
       "      <th>4</th>\n",
       "      <td>800</td>\n",
       "      <td>0.735771</td>\n",
       "    </tr>\n",
       "    <tr>\n",
       "      <th>6</th>\n",
       "      <td>1000</td>\n",
       "      <td>0.722232</td>\n",
       "    </tr>\n",
       "  </tbody>\n",
       "</table>\n",
       "</div>"
      ],
      "text/plain": [
       "   n_neighbors  Accuracy\n",
       "7           40  0.784908\n",
       "0           50  0.777889\n",
       "5           70  0.776887\n",
       "2           80  0.781901\n",
       "8          100  0.772123\n",
       "1          140  0.774629\n",
       "9          300  0.756830\n",
       "3          600  0.745798\n",
       "4          800  0.735771\n",
       "6         1000  0.722232"
      ]
     },
     "execution_count": 31,
     "metadata": {},
     "output_type": "execute_result"
    }
   ],
   "source": [
    "params_nn"
   ]
  },
  {
   "cell_type": "code",
   "execution_count": 33,
   "id": "ef2ea08b",
   "metadata": {},
   "outputs": [
    {
     "data": {
      "text/plain": [
       "<AxesSubplot:xlabel='n_neighbors'>"
      ]
     },
     "execution_count": 33,
     "metadata": {},
     "output_type": "execute_result"
    },
    {
     "data": {
      "image/png": "[encoded data removed]",
      "text/plain": [
       "<Figure size 432x288 with 1 Axes>"
      ]
     },
     "metadata": {
      "needs_background": "light"
     },
     "output_type": "display_data"
    }
   ],
   "source": [
    "params_nn.plot(kind='line',x='n_neighbors',y='Accuracy')"
   ]
  },
  {
   "cell_type": "code",
   "execution_count": 12,
   "id": "b165e353",
   "metadata": {},
   "outputs": [
    {
     "data": {
      "text/plain": [
       "{'alpha': 0.0001, 'eta0': 0.1, 'learning_rate': 'constant', 'max_iter': 1200}"
      ]
     },
     "execution_count": 12,
     "metadata": {},
     "output_type": "execute_result"
    }
   ],
   "source": [
    "gs_svm.best_params_"
   ]
  },
  {
   "cell_type": "code",
   "execution_count": 13,
   "id": "e309adef",
   "metadata": {},
   "outputs": [
    {
     "name": "stdout",
     "output_type": "stream",
     "text": [
      "Fitting 3 folds for each of 100 candidates, totalling 300 fits\n"
     ]
    },
    {
     "data": {
      "text/plain": [
       "GridSearchCV(cv=3, estimator=SGDClassifier(), n_jobs=-1,\n",
       "             param_grid={'alpha': [1e-05, 0.0001, 0.001, 0.01, 0.1],\n",
       "                         'eta0': [0.0001, 0.001, 0.01, 0.1],\n",
       "                         'learning_rate': ['constant'],\n",
       "                         'max_iter': [300, 600, 900, 1200, 1500]},\n",
       "             verbose=4)"
      ]
     },
     "execution_count": 13,
     "metadata": {},
     "output_type": "execute_result"
    }
   ],
   "source": [
    "svm_param_grid = {\n",
    "    'learning_rate': ['constant'],\n",
    "    'eta0': [0.0001, 0.001, 0.01, 0.1],\n",
    "    'max_iter': [300, 600, 900, 1200, 1500],\n",
    "    'alpha': [0.00001, 0.0001, 0.001, 0.01, 0.1]\n",
    "}\n",
    "\n",
    "gs_svm = GridSearchCV(SGDClassifier(loss='hinge'),\n",
    "            svm_param_grid,\n",
    "            cv = 3,\n",
    "            verbose = 4,\n",
    "            n_jobs = -1\n",
    "            )\n",
    "\n",
    "gs_svm.fit(trainPlusValidate.drop(['label'], axis=1), trainPlusValidate['label'].astype('int'))"
   ]
  },
  {
   "cell_type": "code",
   "execution_count": null,
   "id": "97edd813",
   "metadata": {},
   "outputs": [],
   "source": [
    "%store gs_svm"
   ]
  },
  {
   "cell_type": "code",
   "execution_count": null,
   "id": "a41f932b",
   "metadata": {},
   "outputs": [],
   "source": [
    "%store -r gs_svm"
   ]
  },
  {
   "cell_type": "code",
   "execution_count": 17,
   "id": "e6997a5f",
   "metadata": {},
   "outputs": [
    {
     "name": "stdout",
     "output_type": "stream",
     "text": [
      "Train score 0.7282526949110053\n",
      "Evaluate score 0.672\n"
     ]
    }
   ],
   "source": [
    "svmTrainScore = gs_svm.score(trainPlusValidate.drop(['label'], axis=1), trainPlusValidate['label'].astype('int'))\n",
    "svmEvaluateScore = gs_svm.score(evaluationList.drop(['label'], axis=1), evaluationList['label'].astype('int'))\n",
    "\n",
    "print('Train score ' + str(svmTrainScore))\n",
    "print('Evaluate score ' + str(svmEvaluateScore))"
   ]
  },
  {
   "cell_type": "code",
   "execution_count": 34,
   "id": "6cc5185f",
   "metadata": {},
   "outputs": [],
   "source": [
    "params_svm = pd.concat([pd.DataFrame(gs_svm.cv_results_[\"params\"]),pd.DataFrame(gs_svm.cv_results_[\"mean_test_score\"], columns=[\"Accuracy\"])],axis=1)"
   ]
  },
  {
   "cell_type": "code",
   "execution_count": 44,
   "id": "585fbe3e",
   "metadata": {},
   "outputs": [
    {
     "data": {
      "text/html": [
       "<div>\n",
       "<style scoped>\n",
       "    .dataframe tbody tr th:only-of-type {\n",
       "        vertical-align: middle;\n",
       "    }\n",
       "\n",
       "    .dataframe tbody tr th {\n",
       "        vertical-align: top;\n",
       "    }\n",
       "\n",
       "    .dataframe thead th {\n",
       "        text-align: right;\n",
       "    }\n",
       "</style>\n",
       "<table border=\"1\" class=\"dataframe\">\n",
       "  <thead>\n",
       "    <tr style=\"text-align: right;\">\n",
       "      <th></th>\n",
       "      <th>alpha</th>\n",
       "      <th>eta0</th>\n",
       "      <th>max_iter</th>\n",
       "      <th>Accuracy</th>\n",
       "    </tr>\n",
       "  </thead>\n",
       "  <tbody>\n",
       "    <tr>\n",
       "      <th>98</th>\n",
       "      <td>0.10000</td>\n",
       "      <td>0.1000</td>\n",
       "      <td>1200</td>\n",
       "      <td>0.519424</td>\n",
       "    </tr>\n",
       "    <tr>\n",
       "      <th>78</th>\n",
       "      <td>0.01000</td>\n",
       "      <td>0.1000</td>\n",
       "      <td>1200</td>\n",
       "      <td>0.666099</td>\n",
       "    </tr>\n",
       "    <tr>\n",
       "      <th>88</th>\n",
       "      <td>0.10000</td>\n",
       "      <td>0.0010</td>\n",
       "      <td>1200</td>\n",
       "      <td>0.672811</td>\n",
       "    </tr>\n",
       "    <tr>\n",
       "      <th>93</th>\n",
       "      <td>0.10000</td>\n",
       "      <td>0.0100</td>\n",
       "      <td>1200</td>\n",
       "      <td>0.678121</td>\n",
       "    </tr>\n",
       "    <tr>\n",
       "      <th>18</th>\n",
       "      <td>0.00001</td>\n",
       "      <td>0.1000</td>\n",
       "      <td>1200</td>\n",
       "      <td>0.691156</td>\n",
       "    </tr>\n",
       "    <tr>\n",
       "      <th>73</th>\n",
       "      <td>0.01000</td>\n",
       "      <td>0.0100</td>\n",
       "      <td>1200</td>\n",
       "      <td>0.697894</td>\n",
       "    </tr>\n",
       "    <tr>\n",
       "      <th>28</th>\n",
       "      <td>0.00010</td>\n",
       "      <td>0.0010</td>\n",
       "      <td>1200</td>\n",
       "      <td>0.709701</td>\n",
       "    </tr>\n",
       "    <tr>\n",
       "      <th>58</th>\n",
       "      <td>0.00100</td>\n",
       "      <td>0.1000</td>\n",
       "      <td>1200</td>\n",
       "      <td>0.710220</td>\n",
       "    </tr>\n",
       "    <tr>\n",
       "      <th>3</th>\n",
       "      <td>0.00001</td>\n",
       "      <td>0.0001</td>\n",
       "      <td>1200</td>\n",
       "      <td>0.712706</td>\n",
       "    </tr>\n",
       "    <tr>\n",
       "      <th>53</th>\n",
       "      <td>0.00100</td>\n",
       "      <td>0.0100</td>\n",
       "      <td>1200</td>\n",
       "      <td>0.712964</td>\n",
       "    </tr>\n",
       "    <tr>\n",
       "      <th>43</th>\n",
       "      <td>0.00100</td>\n",
       "      <td>0.0001</td>\n",
       "      <td>1200</td>\n",
       "      <td>0.714216</td>\n",
       "    </tr>\n",
       "    <tr>\n",
       "      <th>8</th>\n",
       "      <td>0.00001</td>\n",
       "      <td>0.0010</td>\n",
       "      <td>1200</td>\n",
       "      <td>0.716213</td>\n",
       "    </tr>\n",
       "    <tr>\n",
       "      <th>63</th>\n",
       "      <td>0.01000</td>\n",
       "      <td>0.0001</td>\n",
       "      <td>1200</td>\n",
       "      <td>0.718480</td>\n",
       "    </tr>\n",
       "    <tr>\n",
       "      <th>33</th>\n",
       "      <td>0.00010</td>\n",
       "      <td>0.0100</td>\n",
       "      <td>1200</td>\n",
       "      <td>0.721231</td>\n",
       "    </tr>\n",
       "    <tr>\n",
       "      <th>23</th>\n",
       "      <td>0.00010</td>\n",
       "      <td>0.0001</td>\n",
       "      <td>1200</td>\n",
       "      <td>0.722737</td>\n",
       "    </tr>\n",
       "    <tr>\n",
       "      <th>48</th>\n",
       "      <td>0.00100</td>\n",
       "      <td>0.0010</td>\n",
       "      <td>1200</td>\n",
       "      <td>0.723247</td>\n",
       "    </tr>\n",
       "    <tr>\n",
       "      <th>13</th>\n",
       "      <td>0.00001</td>\n",
       "      <td>0.0100</td>\n",
       "      <td>1200</td>\n",
       "      <td>0.727752</td>\n",
       "    </tr>\n",
       "    <tr>\n",
       "      <th>38</th>\n",
       "      <td>0.00010</td>\n",
       "      <td>0.1000</td>\n",
       "      <td>1200</td>\n",
       "      <td>0.736025</td>\n",
       "    </tr>\n",
       "    <tr>\n",
       "      <th>68</th>\n",
       "      <td>0.01000</td>\n",
       "      <td>0.0010</td>\n",
       "      <td>1200</td>\n",
       "      <td>0.736778</td>\n",
       "    </tr>\n",
       "    <tr>\n",
       "      <th>83</th>\n",
       "      <td>0.10000</td>\n",
       "      <td>0.0001</td>\n",
       "      <td>1200</td>\n",
       "      <td>0.737529</td>\n",
       "    </tr>\n",
       "  </tbody>\n",
       "</table>\n",
       "</div>"
      ],
      "text/plain": [
       "      alpha    eta0  max_iter  Accuracy\n",
       "98  0.10000  0.1000      1200  0.519424\n",
       "78  0.01000  0.1000      1200  0.666099\n",
       "88  0.10000  0.0010      1200  0.672811\n",
       "93  0.10000  0.0100      1200  0.678121\n",
       "18  0.00001  0.1000      1200  0.691156\n",
       "73  0.01000  0.0100      1200  0.697894\n",
       "28  0.00010  0.0010      1200  0.709701\n",
       "58  0.00100  0.1000      1200  0.710220\n",
       "3   0.00001  0.0001      1200  0.712706\n",
       "53  0.00100  0.0100      1200  0.712964\n",
       "43  0.00100  0.0001      1200  0.714216\n",
       "8   0.00001  0.0010      1200  0.716213\n",
       "63  0.01000  0.0001      1200  0.718480\n",
       "33  0.00010  0.0100      1200  0.721231\n",
       "23  0.00010  0.0001      1200  0.722737\n",
       "48  0.00100  0.0010      1200  0.723247\n",
       "13  0.00001  0.0100      1200  0.727752\n",
       "38  0.00010  0.1000      1200  0.736025\n",
       "68  0.01000  0.0010      1200  0.736778\n",
       "83  0.10000  0.0001      1200  0.737529"
      ]
     },
     "execution_count": 44,
     "metadata": {},
     "output_type": "execute_result"
    }
   ],
   "source": [
    "params_svm.loc[params_svm['max_iter'] == 1200 ].sort_values(by=['Accuracy']).drop(['learning_rate'], axis=1)"
   ]
  },
  {
   "cell_type": "code",
   "execution_count": 20,
   "id": "1936bc42",
   "metadata": {},
   "outputs": [
    {
     "data": {
      "image/png": "[encoded data removed]",
      "text/plain": [
       "<Figure size 432x288 with 1 Axes>"
      ]
     },
     "metadata": {
      "needs_background": "light"
     },
     "output_type": "display_data"
    }
   ],
   "source": [
    "# Print a bar chart with groups\n",
    "\n",
    "import numpy as np\n",
    "import matplotlib.pyplot as plt\n",
    "\n",
    "# set height of bar\n",
    "# length of these lists determine the number\n",
    "# of groups (they must all be the same length)\n",
    "bars1 = [nnTrainScore, svmTrainScore]\n",
    "bars2 = [nnEvaluateScore, svmEvaluateScore]\n",
    "\n",
    "# set width of bar. To work and supply some padding\n",
    "# the number of groups times barWidth must be\n",
    "# a little less than 1 (since the next group\n",
    "# will start at 1, then 2, etc).\n",
    "\n",
    "barWidth = 0.25\n",
    "# Set position of bar on X axis\n",
    "r1 = np.arange(len(bars1))\n",
    "r2 = [x + barWidth for x in r1]\n",
    "r3 = [x + barWidth for x in r2]\n",
    "\n",
    "# Make the plot\n",
    "plt.bar(r1, bars1, color='green', width=barWidth, edgecolor='white', label='training')\n",
    "plt.bar(r2, bars2, color='red', width=barWidth, edgecolor='white', label='evaluation')\n",
    "\n",
    "# Add xticks on the middle of the group bars\n",
    "plt.xlabel('Accuracy', fontweight='bold')\n",
    "plt.xticks([r + barWidth for r in range(len(bars1))], ['Nearest Neighbors', 'SVM'])\n",
    "\n",
    "# Create legend & Show graphic\n",
    "plt.legend()\n",
    "plt.show()\n",
    "#plt.savefig(\"barChart.pdf\",dpi=400,bbox_inches='tight',pad_inches=0.05) # save as a pdf"
   ]
  }
 ],
 "metadata": {
  "kernelspec": {
   "display_name": "Python 3 (ipykernel)",
   "language": "python",
   "name": "python3"
  },
  "language_info": {
   "codemirror_mode": {
    "name": "ipython",
    "version": 3
   },
   "file_extension": ".py",
   "mimetype": "text/x-python",
   "name": "python",
   "nbconvert_exporter": "python",
   "pygments_lexer": "ipython3",
   "version": "3.9.10"
  },
  "varInspector": {
   "cols": {
    "lenName": 16,
    "lenType": 16,
    "lenVar": 40
   },
   "kernels_config": {
    "python": {
     "delete_cmd_postfix": "",
     "delete_cmd_prefix": "del ",
     "library": "var_list.py",
     "varRefreshCmd": "print(var_dic_list())"
    },
    "r": {
     "delete_cmd_postfix": ") ",
     "delete_cmd_prefix": "rm(",
     "library": "var_list.r",
     "varRefreshCmd": "cat(var_dic_list()) "
    }
   },
   "oldHeight": 374.844,
   "position": {
    "height": "366.844px",
    "left": "30px",
    "right": "20px",
    "top": "72px",
    "width": "461px"
   },
   "types_to_exclude": [
    "module",
    "function",
    "builtin_function_or_method",
    "instance",
    "_Feature"
   ],
   "varInspector_section_display": "block",
   "window_display": false
  }
 },
 "nbformat": 4,
 "nbformat_minor": 5
}
